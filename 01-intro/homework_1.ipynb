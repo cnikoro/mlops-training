{
  "nbformat": 4,
  "nbformat_minor": 0,
  "metadata": {
    "colab": {
      "provenance": []
    },
    "kernelspec": {
      "name": "python3",
      "display_name": "Python 3"
    },
    "language_info": {
      "name": "python"
    }
  },
  "cells": [
    {
      "cell_type": "code",
      "execution_count": null,
      "metadata": {
        "id": "nnCSt3PxarZl"
      },
      "outputs": [],
      "source": [
        "import pandas as pd\n",
        "import numpy as np\n",
        "from sklearn.preprocessing import OneHotEncoder\n",
        "from sklearn.linear_model import LinearRegression\n",
        "from sklearn.metrics import mean_squared_error"
      ]
    },
    {
      "cell_type": "code",
      "source": [
        "HEAD = \"https://d37ci6vzurychx.cloudfront.net/trip-data/\"\n",
        "\n",
        "URL_jan = HEAD + \"yellow_tripdata_2023-01.parquet\"\n",
        "\n",
        "df_jan = pd.read_parquet(URL_jan)\n",
        "\n",
        "URL_feb = HEAD + \"yellow_tripdata_2023-02.parquet\"\n",
        "\n",
        "df_feb = pd.read_parquet(URL_feb)\n",
        "\n",
        "print(f\"January: Rows: {df_jan.shape[0]}, Columns: {df_jan.shape[1]}\")\n",
        "print(f\"Feburary: Rows: {df_feb.shape[0]}, Columns: {df_feb.shape[1]}\")"
      ],
      "metadata": {
        "id": "8cIDHP1pa83I",
        "colab": {
          "base_uri": "https://localhost:8080/"
        },
        "outputId": "c5beb763-4077-45fd-be34-f9b951fcb6e6"
      },
      "execution_count": null,
      "outputs": [
        {
          "output_type": "stream",
          "name": "stdout",
          "text": [
            "January: Rows: 3066766, Columns: 19\n",
            "Feburary: Rows: 2913955, Columns: 19\n"
          ]
        }
      ]
    },
    {
      "cell_type": "code",
      "source": [
        "df_jan.info()"
      ],
      "metadata": {
        "colab": {
          "base_uri": "https://localhost:8080/"
        },
        "id": "OLq6BGrzdyeJ",
        "outputId": "dc959e04-84bc-481b-fbbe-61b38e3d1d8b"
      },
      "execution_count": null,
      "outputs": [
        {
          "output_type": "stream",
          "name": "stdout",
          "text": [
            "<class 'pandas.core.frame.DataFrame'>\n",
            "RangeIndex: 3066766 entries, 0 to 3066765\n",
            "Data columns (total 19 columns):\n",
            " #   Column                 Dtype         \n",
            "---  ------                 -----         \n",
            " 0   VendorID               int64         \n",
            " 1   tpep_pickup_datetime   datetime64[us]\n",
            " 2   tpep_dropoff_datetime  datetime64[us]\n",
            " 3   passenger_count        float64       \n",
            " 4   trip_distance          float64       \n",
            " 5   RatecodeID             float64       \n",
            " 6   store_and_fwd_flag     object        \n",
            " 7   PULocationID           int64         \n",
            " 8   DOLocationID           int64         \n",
            " 9   payment_type           int64         \n",
            " 10  fare_amount            float64       \n",
            " 11  extra                  float64       \n",
            " 12  mta_tax                float64       \n",
            " 13  tip_amount             float64       \n",
            " 14  tolls_amount           float64       \n",
            " 15  improvement_surcharge  float64       \n",
            " 16  total_amount           float64       \n",
            " 17  congestion_surcharge   float64       \n",
            " 18  airport_fee            float64       \n",
            "dtypes: datetime64[us](2), float64(12), int64(4), object(1)\n",
            "memory usage: 444.6+ MB\n"
          ]
        }
      ]
    },
    {
      "cell_type": "code",
      "source": [
        "duration = df_jan.tpep_dropoff_datetime - df_jan.tpep_pickup_datetime\n",
        "\n",
        "df_jan[\"duration\"] = duration.apply(lambda a: a.total_seconds() / 60)\n",
        "\n",
        "df_jan[\"duration\"].std()"
      ],
      "metadata": {
        "colab": {
          "base_uri": "https://localhost:8080/"
        },
        "id": "XFVM_HzyeIR5",
        "outputId": "7927b116-7220-448b-ce6e-f205e0cc6d56"
      },
      "execution_count": null,
      "outputs": [
        {
          "output_type": "execute_result",
          "data": {
            "text/plain": [
              "42.594351241920904"
            ]
          },
          "metadata": {},
          "execution_count": 54
        }
      ]
    },
    {
      "cell_type": "code",
      "source": [
        "df_no_outliers = df_jan[(df_jan.duration >= 1) & (df_jan.duration <= 60)]\n",
        "\n",
        "# compute the percentage of records left\n",
        "\n",
        "df_no_outliers.shape[0]/df_jan.shape[0] * 100"
      ],
      "metadata": {
        "colab": {
          "base_uri": "https://localhost:8080/"
        },
        "id": "_OmrXFRTe4oT",
        "outputId": "3e0a74bd-1b70-4cee-8bff-bdb60d55dc1e"
      },
      "execution_count": null,
      "outputs": [
        {
          "output_type": "execute_result",
          "data": {
            "text/plain": [
              "98.1220282212598"
            ]
          },
          "metadata": {},
          "execution_count": 67
        }
      ]
    },
    {
      "cell_type": "code",
      "source": [
        "one_hot_encoder = OneHotEncoder(handle_unknown='ignore')\n",
        "\n",
        "ids = df_no_outliers[['PULocationID', 'DOLocationID']]\n",
        "\n",
        "one_hot_encoder.fit(ids)\n",
        "\n",
        "X_train = one_hot_encoder.transform(ids)\n",
        "\n",
        "X_train.shape"
      ],
      "metadata": {
        "colab": {
          "base_uri": "https://localhost:8080/"
        },
        "id": "Z3HCSImpjXQg",
        "outputId": "2e662513-ea51-4db6-9c41-02e27fd70b2b"
      },
      "execution_count": null,
      "outputs": [
        {
          "output_type": "execute_result",
          "data": {
            "text/plain": [
              "(3009173, 515)"
            ]
          },
          "metadata": {},
          "execution_count": 62
        }
      ]
    },
    {
      "cell_type": "code",
      "source": [
        "y_train = df_no_outliers[['duration']]\n",
        "\n",
        "y_train.shape"
      ],
      "metadata": {
        "colab": {
          "base_uri": "https://localhost:8080/"
        },
        "id": "0v_LvuylldNj",
        "outputId": "941617db-cfba-4d28-ca4c-7cdc899204a2"
      },
      "execution_count": null,
      "outputs": [
        {
          "output_type": "execute_result",
          "data": {
            "text/plain": [
              "(3009173, 1)"
            ]
          },
          "metadata": {},
          "execution_count": 51
        }
      ]
    },
    {
      "cell_type": "code",
      "source": [
        "lr = LinearRegression()\n",
        "lr.fit(X_train, y_train)\n",
        "\n",
        "y_pred = lr.predict(X_train)\n",
        "\n",
        "y_pred.shape"
      ],
      "metadata": {
        "colab": {
          "base_uri": "https://localhost:8080/"
        },
        "id": "c5G9z6QXlyca",
        "outputId": "f26e2c1f-39d1-48d5-f328-a38dff0e111d"
      },
      "execution_count": null,
      "outputs": [
        {
          "output_type": "execute_result",
          "data": {
            "text/plain": [
              "(3009173, 1)"
            ]
          },
          "metadata": {},
          "execution_count": 52
        }
      ]
    },
    {
      "cell_type": "code",
      "source": [
        "np.sqrt(mean_squared_error(y_train, y_pred))"
      ],
      "metadata": {
        "colab": {
          "base_uri": "https://localhost:8080/"
        },
        "id": "iPtiV99JnfY8",
        "outputId": "7915f0c6-aac9-4a89-ef1f-b23f3580e73f"
      },
      "execution_count": null,
      "outputs": [
        {
          "output_type": "execute_result",
          "data": {
            "text/plain": [
              "np.float64(7.649261948684693)"
            ]
          },
          "metadata": {},
          "execution_count": 53
        }
      ]
    },
    {
      "cell_type": "code",
      "source": [
        "df_feb.tpep_dropoff_datetime.dtype"
      ],
      "metadata": {
        "colab": {
          "base_uri": "https://localhost:8080/"
        },
        "id": "o0ExroJ1qgj5",
        "outputId": "b36a8359-ea58-4235-e045-a58f4f87a56f"
      },
      "execution_count": null,
      "outputs": [
        {
          "output_type": "execute_result",
          "data": {
            "text/plain": [
              "dtype('<M8[us]')"
            ]
          },
          "metadata": {},
          "execution_count": 57
        }
      ]
    },
    {
      "cell_type": "code",
      "source": [
        "duration = df_feb.tpep_dropoff_datetime - df_feb.tpep_pickup_datetime\n",
        "\n",
        "df_feb['duration'] = duration.apply(lambda a: a.total_seconds() / 60)\n",
        "\n",
        "df2_no_outliers = df_feb[(df_feb.duration >= 1) & (df_feb.duration <= 60)]"
      ],
      "metadata": {
        "id": "brX2v5oyqcI5"
      },
      "execution_count": null,
      "outputs": []
    },
    {
      "cell_type": "code",
      "source": [
        "X_test = one_hot_encoder.transform(df2_no_outliers[['PULocationID', 'DOLocationID']])\n",
        "\n",
        "X_test.shape"
      ],
      "metadata": {
        "colab": {
          "base_uri": "https://localhost:8080/"
        },
        "id": "hxrOAF2soO4u",
        "outputId": "bd08d4bf-0ad5-4ddd-ec15-1c9f8d1f030b"
      },
      "execution_count": null,
      "outputs": [
        {
          "output_type": "execute_result",
          "data": {
            "text/plain": [
              "(2855951, 515)"
            ]
          },
          "metadata": {},
          "execution_count": 69
        }
      ]
    },
    {
      "cell_type": "code",
      "source": [
        "y_test = df2_no_outliers[['duration']]\n",
        "\n",
        "y_test_pred = lr.predict(X_test)\n",
        "\n",
        "np.sqrt(mean_squared_error(y_test, y_test_pred))"
      ],
      "metadata": {
        "colab": {
          "base_uri": "https://localhost:8080/"
        },
        "id": "5WIfTlRFrb8l",
        "outputId": "ee53b676-c9ec-4632-c61d-ff40ee38bfa7"
      },
      "execution_count": null,
      "outputs": [
        {
          "output_type": "execute_result",
          "data": {
            "text/plain": [
              "np.float64(7.8118169982078385)"
            ]
          },
          "metadata": {},
          "execution_count": 71
        }
      ]
    }
  ]
}